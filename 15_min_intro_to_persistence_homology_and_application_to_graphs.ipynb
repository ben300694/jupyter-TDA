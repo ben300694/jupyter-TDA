{
  "cells": [
    {
      "cell_type": "markdown",
      "metadata": {
        "id": "view-in-github",
        "colab_type": "text"
      },
      "source": [
        "<a href=\"https://colab.research.google.com/github/ben300694/jupyter-TDA/blob/main/15_min_intro_to_persistence_homology_and_application_to_graphs.ipynb\" target=\"_parent\"><img src=\"https://colab.research.google.com/assets/colab-badge.svg\" alt=\"Open In Colab\"/></a>"
      ]
    },
    {
      "cell_type": "markdown",
      "metadata": {
        "tags": [],
        "id": "YADgOx7xEruC"
      },
      "source": [
        "# 15 min Intro to Persistent Homology\n",
        "### <a href=\"https://ben300694.github.io/\" target=\"_blank\">Benjamin Matthias Ruppik</a>, Max-Planck Institute for Mathematics, Bonn"
      ]
    },
    {
      "cell_type": "markdown",
      "metadata": {
        "tags": [],
        "id": "rF9N56T4EruD"
      },
      "source": [
        "## Filtrations of topological spaces\n",
        "\n",
        "\n",
        "### Motivating example: Sublevel filtrations\n",
        "\n",
        "A lot of topological spaces $X$ come with a natural *filtration*,\n",
        "an increasing union of subspaces $X_{i}$,\n",
        "i.e. for $i < j$ in the index set we have $X_{i} \\subseteq X_{j}$.\n",
        "\n",
        "Here is an example of a topological space $X$\n",
        "(with a Morse function $f \\colon X \\rightarrow \\mathbb{R}$) ..."
      ]
    },
    {
      "cell_type": "markdown",
      "metadata": {
        "id": "pYELqZZDEruE"
      },
      "source": [
        "<img src=\"https://github.com/ben300694/jupyter-TDA/blob/main/img/topological_space_Morse_position.jpg?raw=1\" width=400 title=\"Surface of genus 2 in Morse position with 3 minima, 7 saddles, 2 maxima\"/>\n",
        "\n",
        "... and the *sublevel set filtration*\n",
        "$X_{t} = f^{-1}((-\\infty, t])$:\n",
        "\n",
        "<img src=\"https://github.com/ben300694/jupyter-TDA/blob/main/img/Morse_sublevel_filtration.jpg?raw=1\" width=600 title=\"Surface of genus 2 sublevel filtration\"/>\n",
        "\n",
        "<img src=\"https://github.com/ben300694/jupyter-TDA/blob/main/img/Morse_complete_sublevel_filration.png?raw=1\" width=1000 title=\"Surface of genus 2 sublevel filtration 8 movie frames\"/>"
      ]
    },
    {
      "cell_type": "markdown",
      "metadata": {
        "id": "AQ1IhoK5EruE"
      },
      "source": [
        "### Persistent homology\n",
        "\n",
        "The $i$-dimensional homology group of a space measures $i$-dimensional holes (or cavities).\n",
        "\n",
        "\\begin{equation}\n",
        "H_{i}(X) = i\\textrm{-dim cycles modulo boundaries}\n",
        "\\end{equation}\n",
        "\n",
        "Here are some examples of 1-dimensional homology classes:\n",
        "\n",
        "<img src=\"https://github.com/ben300694/jupyter-TDA/blob/main/img/Morse_homology_classes.png?raw=1\" width=1000 title=\"Surface of genus 2 sublevel filtration 8 movie frames with some homology classes drawn in.\"/>\n",
        "\n",
        "persist = \"to stick around for a long time\"\n",
        "\n",
        "Example where a first homology class persists from its appearance until the end in <span style=\"color:red\">red</span>.\n",
        "\n",
        "Example where a first homology class appears but soon thereafter is canceled at a maximum in <span style=\"color:green\">green</span>.\n",
        "\n",
        "**Slogan: Persistent homology measures non-trivial cycles which can be detected in significant parts of the filtrations.**"
      ]
    },
    {
      "cell_type": "markdown",
      "metadata": {
        "id": "cbETRg-iEruE"
      },
      "source": [
        "## Toy data and Simplex trees\n",
        "\n",
        "### Defining a simplicial complex with filtration\n"
      ]
    },
    {
      "cell_type": "markdown",
      "metadata": {
        "id": "_2VCgvhdEruE"
      },
      "source": [
        "<img src=\"https://github.com/ben300694/jupyter-TDA/blob/main/img/toy_simplicial_complex.jpg?raw=1\" width=800 title=\"Toy simplicial complex\"/>"
      ]
    },
    {
      "cell_type": "code",
      "source": [
        "!pip install gudhi"
      ],
      "metadata": {
        "id": "mJiRjE7GE6mr",
        "outputId": "ec3e9533-c04a-4382-9784-387ce188b9c6",
        "colab": {
          "base_uri": "https://localhost:8080/"
        }
      },
      "execution_count": null,
      "outputs": [
        {
          "output_type": "stream",
          "name": "stdout",
          "text": [
            "Looking in indexes: https://pypi.org/simple, https://us-python.pkg.dev/colab-wheels/public/simple/\n",
            "Collecting gudhi\n",
            "  Downloading gudhi-3.5.0-cp37-cp37m-manylinux_2_17_x86_64.manylinux2014_x86_64.whl (29.3 MB)\n",
            "\u001b[K     |████████████████████████████████| 29.3 MB 70.6 MB/s \n",
            "\u001b[?25hRequirement already satisfied: numpy>=1.15.0 in /usr/local/lib/python3.7/dist-packages (from gudhi) (1.21.6)\n",
            "Installing collected packages: gudhi\n",
            "Successfully installed gudhi-3.5.0\n"
          ]
        }
      ]
    },
    {
      "cell_type": "code",
      "execution_count": null,
      "metadata": {
        "id": "Elw1g11dEruF"
      },
      "outputs": [],
      "source": [
        "import pandas as pd\n",
        "import gudhi\n",
        "import numpy as np\n",
        "import networkx\n",
        "from pylab import *"
      ]
    },
    {
      "cell_type": "code",
      "execution_count": null,
      "metadata": {
        "id": "HlyRLWE2EruF",
        "outputId": "11f6ef01-d91b-4af7-8d7d-858f05de312c",
        "colab": {
          "base_uri": "https://localhost:8080/"
        }
      },
      "outputs": [
        {
          "output_type": "stream",
          "name": "stdout",
          "text": [
            "([0], 0.0)\n",
            "([1], 0.0)\n",
            "([2], 0.0)\n",
            "([3], 0.0)\n",
            "([4], 0.0)\n",
            "([0, 1], 1.0)\n",
            "([0, 2], 1.0)\n",
            "([1, 3], 1.0)\n",
            "([2, 3], 1.0)\n",
            "([1, 2], 2.0)\n",
            "([0, 1, 2], 3.0)\n",
            "([3, 4], 3.0)\n"
          ]
        }
      ],
      "source": [
        "# Toy example working with the simplex tree\n",
        "\n",
        "toy_st = gudhi.SimplexTree()\n",
        "\n",
        "# 0-simplices in filtration level 0.0\n",
        "for i in range(0, 5):\n",
        "    toy_st.insert([i], 0.0)\n",
        "\n",
        "# 1-simplices in filtration level 1.0\n",
        "toy_st.insert([0, 1], 1.0)\n",
        "toy_st.insert([0, 2], 1.0)\n",
        "toy_st.insert([1, 3], 1.0)\n",
        "toy_st.insert([2, 3], 1.0)\n",
        "\n",
        "# additional 1-simplex in filtration level 2.0\n",
        "toy_st.insert([1, 2], 2.0)\n",
        "\n",
        "# last 1-simplex and 2-simplex\n",
        "toy_st.insert([3, 4], 3.0)\n",
        "toy_st.insert([0, 1, 2], 3.0)\n",
        "\n",
        "for simplex in toy_st.get_filtration():\n",
        "    print(simplex)"
      ]
    },
    {
      "cell_type": "markdown",
      "metadata": {
        "id": "27OuFz98EruG"
      },
      "source": [
        "<img src=\"https://github.com/ben300694/jupyter-TDA/blob/main/img/toy_simplicial_complex_homology.jpg?raw=1\" width=800 title=\"Toy simplicial complex with homology classes\"/>"
      ]
    },
    {
      "cell_type": "code",
      "execution_count": null,
      "metadata": {
        "id": "6pTYauAkEruG",
        "outputId": "568e1c14-ed76-445f-ccca-481aff4c1059",
        "colab": {
          "base_uri": "https://localhost:8080/",
          "height": 337
        }
      },
      "outputs": [
        {
          "output_type": "stream",
          "name": "stderr",
          "text": [
            "usetex mode requires TeX.\n"
          ]
        },
        {
          "output_type": "stream",
          "name": "stdout",
          "text": [
            "[(1, (1.0, inf)), (1, (2.0, 3.0)), (0, (0.0, inf)), (0, (0.0, 3.0)), (0, (0.0, 1.0)), (0, (0.0, 1.0)), (0, (0.0, 1.0))]\n"
          ]
        },
        {
          "output_type": "execute_result",
          "data": {
            "text/plain": [
              "<matplotlib.axes._subplots.AxesSubplot at 0x7f970cd59190>"
            ]
          },
          "metadata": {},
          "execution_count": 4
        },
        {
          "output_type": "display_data",
          "data": {
            "text/plain": [
              "<Figure size 432x288 with 1 Axes>"
            ],
            "image/png": "[encoded data removed]"
          },
          "metadata": {
            "needs_background": "light"
          }
        }
      ],
      "source": [
        "toy_bar = toy_st.persistence(min_persistence=0.0, persistence_dim_max=True)\n",
        "print(toy_bar)\n",
        "\n",
        "gudhi.plot_persistence_barcode(persistence=toy_bar, legend=True)"
      ]
    },
    {
      "cell_type": "code",
      "execution_count": null,
      "metadata": {
        "id": "NeKOFoXUEruG",
        "outputId": "07bc128b-223c-4752-f916-9581a6f4e849",
        "colab": {
          "base_uri": "https://localhost:8080/",
          "height": 320
        }
      },
      "outputs": [
        {
          "output_type": "execute_result",
          "data": {
            "text/plain": [
              "<matplotlib.axes._subplots.AxesSubplot at 0x7f96fd1dd290>"
            ]
          },
          "metadata": {},
          "execution_count": 6
        },
        {
          "output_type": "display_data",
          "data": {
            "text/plain": [
              "<Figure size 432x288 with 1 Axes>"
            ],
            "image/png": "[encoded data removed]"
          },
          "metadata": {
            "needs_background": "light"
          }
        }
      ],
      "source": [
        "gudhi.plot_persistence_diagram(persistence=toy_bar, legend=True)"
      ]
    },
    {
      "cell_type": "markdown",
      "metadata": {
        "id": "anzXQML8EruH"
      },
      "source": [
        "## Persistent homology applied to \"real data\": Clique complex of a graph\n",
        "\n",
        "Repository of various graphs: https://networkrepository.com/index.php\n",
        "\n",
        "<img src=\"https://github.com/ben300694/jupyter-TDA/blob/main/img/network_repository_website.png?raw=1\" width=700 title=\"Screenshot of the Network Repositoy website\"/>\n",
        "\n",
        "Let us take a graph representing a social network:\n",
        "\n",
        "Quote: \"Data collected about Facebook pages (November 2017).\n",
        "These datasets represent blue verified Facebook page networks of different categories. Nodes represent the pages and edges are mutual likes among them.\"\n"
      ]
    },
    {
      "cell_type": "code",
      "execution_count": null,
      "metadata": {
        "id": "IFw5dlF9EruH"
      },
      "outputs": [],
      "source": [
        "def simplex_graph_from_csv(path_to_csv, delimiter=','):\n",
        "    \"\"\"\n",
        "    Input: Path to csv file with list of edges\n",
        "    \n",
        "    Output: 1-skeleton of simplex tree\n",
        "    \"\"\"\n",
        "    # Create networkx graph from edge list\n",
        "    dataframe = pd.read_csv(path_to_csv, names=['A', 'B'])\n",
        "    print(dataframe)\n",
        "    G_nx = networkx.from_pandas_edgelist(dataframe, 'A', 'B')\n",
        "    print(G_nx)\n",
        "    \n",
        "    # Create simplex tree\n",
        "    st = gudhi.SimplexTree()\n",
        "\n",
        "    # Insert vertices into simplex tree\n",
        "    for v in G_nx.nodes():\n",
        "        st.insert([v], 0.0)\n",
        "    # Insert edges into simplex tree\n",
        "    for e in G_nx.edges():\n",
        "        st.insert(e, 1.0)\n",
        "\n",
        "    return st"
      ]
    },
    {
      "cell_type": "code",
      "execution_count": null,
      "metadata": {
        "id": "YR9XxifqEruH",
        "outputId": "11227d8c-0755-48e9-8398-384b64994046",
        "colab": {
          "base_uri": "https://localhost:8080/",
          "height": 569
        }
      },
      "outputs": [
        {
          "output_type": "stream",
          "name": "stdout",
          "text": [
            "        A    B\n",
            "0       0  276\n",
            "1       0   58\n",
            "2       0  132\n",
            "3       0  603\n",
            "4       0  398\n",
            "...   ...  ...\n",
            "2097  597  611\n",
            "2098  601  603\n",
            "2099  601  616\n",
            "2100  603  616\n",
            "2101  311  613\n",
            "\n",
            "[2102 rows x 2 columns]\n",
            "Graph with 620 nodes and 2102 edges\n"
          ]
        },
        {
          "output_type": "execute_result",
          "data": {
            "text/plain": [
              "<matplotlib.axes._subplots.AxesSubplot at 0x7f96fc464850>"
            ]
          },
          "metadata": {},
          "execution_count": 29
        },
        {
          "output_type": "display_data",
          "data": {
            "text/plain": [
              "<Figure size 432x288 with 1 Axes>"
            ],
            "image/png": "[encoded data removed]"
          },
          "metadata": {
            "needs_background": "light"
          }
        }
      ],
      "source": [
        "# Import the real data graph and build 1-complex\n",
        "\n",
        "# path_to_fb_pages_food_csv = './datasets/fb-pages-food/fb-pages-food.edges'\n",
        "path_to_fb_pages_food_csv = \\\n",
        "  'https://raw.githubusercontent.com/ben300694/jupyter-TDA/main/datasets/fb-pages-food/fb-pages-food.edges'\n",
        "\n",
        "fb_pages_food_st = simplex_graph_from_csv(path_to_fb_pages_food_csv)\n",
        "\n",
        "#for simplex in fb_pages_food_st.get_filtration():\n",
        "#    print(simplex)\n",
        "\n",
        "fb_pages_food_bar = fb_pages_food_st.persistence(min_persistence=-1.0, persistence_dim_max=True)\n",
        "# print(fb_pages_food_bar)\n",
        "\n",
        "gudhi.plot_persistence_barcode(fb_pages_food_bar, legend=True, max_intervals=0)"
      ]
    },
    {
      "cell_type": "markdown",
      "metadata": {
        "id": "R3Q5k15VEruH"
      },
      "source": [
        "Clique complex of a graph:\n",
        "We add a $k$-simplex for any clique of $(k+1)$-many vertices in the graph.\n",
        "\n",
        "<img src=\"https://github.com/ben300694/jupyter-TDA/blob/main/img/graph_cliques_examples.jpg?raw=1\" width=700 title=\"Screenshot of the Network Repositoy website\"/>\n",
        "\n",
        "This is also known as the flag complex of a graph.\n",
        "\n",
        "The clique complex of a graph $G$ can also be interpreted as a Vietoris–Rips complex for the metric space \n",
        "where the points are vertices of $G$ and and the distances are the lengths of the shortest paths in $G$.\n"
      ]
    },
    {
      "cell_type": "code",
      "execution_count": null,
      "metadata": {
        "id": "94POsi63EruP"
      },
      "outputs": [],
      "source": [
        "def simplex_2_complex_from_csv(path_to_csv, delimiter=','):\n",
        "    \"\"\"\n",
        "    Input: Path to csv file with list of edges\n",
        "    \n",
        "    Output: 2-skeleton of simplex tree for clique complex\n",
        "    \"\"\"\n",
        "    # Create networkx graph from edge list\n",
        "    dataframe = pd.read_csv(path_to_csv, names=['A', 'B'])\n",
        "    print(dataframe)\n",
        "    G_nx = networkx.from_pandas_edgelist(dataframe, 'A', 'B')\n",
        "    print(G_nx)\n",
        "\n",
        "    # Create simplex tree\n",
        "    st = gudhi.SimplexTree()\n",
        "\n",
        "    # Insert vertices into simplex tree\n",
        "    for v in G_nx.nodes():\n",
        "        st.insert([v], 0.0)\n",
        "    # Insert edges into simplex tree\n",
        "    for e in G_nx.edges():\n",
        "        st.insert(e, 1.0)\n",
        "        \n",
        "    # Inserting cliques with 3 members\n",
        "    for clq in networkx.clique.find_cliques(G_nx):\n",
        "        if len(clq) == 3:\n",
        "            print('Adding clique ', clq)\n",
        "            st.insert(clq, 2.0)\n",
        "        \n",
        "    return st"
      ]
    },
    {
      "cell_type": "code",
      "execution_count": null,
      "metadata": {
        "id": "0F985LQqEruP",
        "outputId": "0466d623-cfab-4cbe-fcf3-f85fe453071e",
        "colab": {
          "base_uri": "https://localhost:8080/"
        }
      },
      "outputs": [
        {
          "output_type": "stream",
          "name": "stdout",
          "text": [
            "        A    B\n",
            "0       0  276\n",
            "1       0   58\n",
            "2       0  132\n",
            "3       0  603\n",
            "4       0  398\n",
            "...   ...  ...\n",
            "2097  597  611\n",
            "2098  601  603\n",
            "2099  601  616\n",
            "2100  603  616\n",
            "2101  311  613\n",
            "\n",
            "[2102 rows x 2 columns]\n",
            "Graph with 620 nodes and 2102 edges\n",
            "Adding clique  [0, 603, 58]\n",
            "Adding clique  [3, 352, 40]\n",
            "Adding clique  [3, 65, 608]\n",
            "Adding clique  [3, 65, 185]\n",
            "Adding clique  [3, 65, 450]\n",
            "Adding clique  [3, 65, 299]\n",
            "Adding clique  [3, 484, 40]\n",
            "Adding clique  [3, 377, 608]\n",
            "Adding clique  [3, 377, 185]\n",
            "Adding clique  [3, 377, 450]\n",
            "Adding clique  [3, 377, 299]\n",
            "Adding clique  [8, 73, 369]\n",
            "Adding clique  [17, 65, 608]\n",
            "Adding clique  [17, 65, 185]\n",
            "Adding clique  [17, 65, 450]\n",
            "Adding clique  [17, 65, 299]\n",
            "Adding clique  [21, 329, 441]\n",
            "Adding clique  [21, 516, 334]\n",
            "Adding clique  [22, 187, 104]\n",
            "Adding clique  [23, 257, 157]\n",
            "Adding clique  [23, 434, 58]\n",
            "Adding clique  [23, 157, 288]\n",
            "Adding clique  [31, 449, 193]\n",
            "Adding clique  [31, 193, 41]\n",
            "Adding clique  [31, 193, 285]\n",
            "Adding clique  [31, 518, 327]\n",
            "Adding clique  [31, 518, 424]\n",
            "Adding clique  [31, 488, 524]\n",
            "Adding clique  [31, 491, 424]\n",
            "Adding clique  [31, 491, 142]\n",
            "Adding clique  [31, 507, 546]\n",
            "Adding clique  [39, 576, 603]\n",
            "Adding clique  [39, 340, 43]\n",
            "Adding clique  [39, 340, 603]\n",
            "Adding clique  [40, 240, 484]\n",
            "Adding clique  [46, 578, 417]\n",
            "Adding clique  [46, 578, 110]\n",
            "Adding clique  [46, 578, 86]\n",
            "Adding clique  [50, 67, 578]\n",
            "Adding clique  [50, 67, 389]\n",
            "Adding clique  [50, 67, 183]\n",
            "Adding clique  [50, 182, 289]\n",
            "Adding clique  [50, 182, 131]\n",
            "Adding clique  [50, 182, 389]\n",
            "Adding clique  [52, 113, 494]\n",
            "Adding clique  [63, 518, 139]\n",
            "Adding clique  [65, 240, 608]\n",
            "Adding clique  [65, 240, 185]\n",
            "Adding clique  [65, 240, 450]\n",
            "Adding clique  [65, 240, 299]\n",
            "Adding clique  [65, 333, 185]\n",
            "Adding clique  [69, 498, 385]\n",
            "Adding clique  [69, 498, 253]\n",
            "Adding clique  [72, 269, 70]\n",
            "Adding clique  [78, 331, 154]\n",
            "Adding clique  [79, 491, 357]\n",
            "Adding clique  [79, 518, 85]\n",
            "Adding clique  [79, 518, 357]\n",
            "Adding clique  [79, 518, 414]\n",
            "Adding clique  [79, 507, 546]\n",
            "Adding clique  [79, 507, 85]\n",
            "Adding clique  [81, 290, 563]\n",
            "Adding clique  [82, 451, 261]\n",
            "Adding clique  [82, 451, 389]\n",
            "Adding clique  [84, 329, 545]\n",
            "Adding clique  [84, 329, 374]\n",
            "Adding clique  [89, 128, 446]\n",
            "Adding clique  [89, 136, 155]\n",
            "Adding clique  [89, 136, 558]\n",
            "Adding clique  [89, 32, 300]\n",
            "Adding clique  [89, 300, 182]\n",
            "Adding clique  [89, 558, 254]\n",
            "Adding clique  [89, 558, 343]\n",
            "Adding clique  [89, 54, 275]\n",
            "Adding clique  [89, 245, 217]\n",
            "Adding clique  [91, 563, 253]\n",
            "Adding clique  [93, 146, 567]\n",
            "Adding clique  [93, 103, 94]\n",
            "Adding clique  [93, 103, 567]\n",
            "Adding clique  [101, 545, 124]\n",
            "Adding clique  [101, 374, 124]\n",
            "Adding clique  [102, 67, 43]\n",
            "Adding clique  [106, 305, 583]\n",
            "Adding clique  [109, 181, 320]\n",
            "Adding clique  [109, 181, 169]\n",
            "Adding clique  [115, 145, 485]\n",
            "Adding clique  [118, 518, 424]\n",
            "Adding clique  [118, 518, 357]\n",
            "Adding clique  [123, 179, 491]\n",
            "Adding clique  [124, 613, 545]\n",
            "Adding clique  [124, 613, 374]\n",
            "Adding clique  [130, 288, 340]\n",
            "Adding clique  [134, 232, 563]\n",
            "Adding clique  [135, 386, 458]\n",
            "Adding clique  [135, 446, 128]\n",
            "Adding clique  [141, 461, 574]\n",
            "Adding clique  [142, 164, 491]\n",
            "Adding clique  [154, 533, 214]\n",
            "Adding clique  [157, 289, 288]\n",
            "Adding clique  [157, 289, 90]\n",
            "Adding clique  [157, 289, 510]\n",
            "Adding clique  [157, 131, 288]\n",
            "Adding clique  [157, 131, 90]\n",
            "Adding clique  [157, 131, 510]\n",
            "Adding clique  [157, 603, 90]\n",
            "Adding clique  [162, 323, 498]\n",
            "Adding clique  [162, 323, 610]\n",
            "Adding clique  [164, 518, 327]\n",
            "Adding clique  [164, 488, 524]\n",
            "Adding clique  [164, 491, 424]\n",
            "Adding clique  [164, 507, 546]\n",
            "Adding clique  [170, 70, 340]\n",
            "Adding clique  [170, 70, 383]\n",
            "Adding clique  [174, 264, 318]\n",
            "Adding clique  [176, 478, 497]\n",
            "Adding clique  [176, 478, 362]\n",
            "Adding clique  [177, 389, 350]\n",
            "Adding clique  [178, 539, 495]\n",
            "Adding clique  [181, 476, 258]\n",
            "Adding clique  [185, 377, 240]\n",
            "Adding clique  [185, 377, 538]\n",
            "Adding clique  [185, 377, 356]\n",
            "Adding clique  [195, 90, 227]\n",
            "Adding clique  [199, 518, 316]\n",
            "Adding clique  [199, 518, 566]\n",
            "Adding clique  [202, 340, 288]\n",
            "Adding clique  [202, 340, 343]\n",
            "Adding clique  [203, 345, 435]\n",
            "Adding clique  [204, 540, 215]\n",
            "Adding clique  [206, 90, 9]\n",
            "Adding clique  [206, 90, 473]\n",
            "Adding clique  [208, 128, 446]\n",
            "Adding clique  [208, 455, 288]\n",
            "Adding clique  [208, 340, 288]\n",
            "Adding clique  [208, 340, 446]\n",
            "Adding clique  [208, 340, 343]\n",
            "Adding clique  [215, 405, 540]\n",
            "Adding clique  [222, 365, 522]\n",
            "Adding clique  [224, 248, 352]\n",
            "Adding clique  [224, 262, 470]\n",
            "Adding clique  [224, 470, 352]\n",
            "Adding clique  [235, 368, 363]\n",
            "Adding clique  [235, 472, 244]\n",
            "Adding clique  [240, 377, 608]\n",
            "Adding clique  [240, 377, 299]\n",
            "Adding clique  [240, 377, 450]\n",
            "Adding clique  [240, 377, 563]\n",
            "Adding clique  [260, 386, 432]\n",
            "Adding clique  [260, 386, 458]\n",
            "Adding clique  [262, 368, 470]\n",
            "Adding clique  [263, 613, 311]\n",
            "Adding clique  [265, 4, 254]\n",
            "Adding clique  [265, 7, 35]\n",
            "Adding clique  [265, 531, 345]\n",
            "Adding clique  [265, 531, 67]\n",
            "Adding clique  [265, 531, 436]\n",
            "Adding clique  [265, 549, 229]\n",
            "Adding clique  [265, 43, 360]\n",
            "Adding clique  [265, 43, 83]\n",
            "Adding clique  [265, 558, 136]\n",
            "Adding clique  [265, 558, 254]\n",
            "Adding clique  [265, 54, 275]\n",
            "Adding clique  [265, 59, 116]\n",
            "Adding clique  [265, 576, 128]\n",
            "Adding clique  [265, 578, 67]\n",
            "Adding clique  [265, 578, 588]\n",
            "Adding clique  [265, 68, 242]\n",
            "Adding clique  [265, 594, 41]\n",
            "Adding clique  [265, 599, 408]\n",
            "Adding clique  [265, 599, 346]\n",
            "Adding clique  [265, 599, 172]\n",
            "Adding clique  [265, 611, 1]\n",
            "Adding clique  [265, 611, 136]\n",
            "Adding clique  [265, 611, 426]\n",
            "Adding clique  [265, 611, 172]\n",
            "Adding clique  [265, 611, 432]\n",
            "Adding clique  [265, 611, 436]\n",
            "Adding clique  [265, 611, 458]\n",
            "Adding clique  [265, 611, 361]\n",
            "Adding clique  [265, 616, 352]\n",
            "Adding clique  [265, 616, 361]\n",
            "Adding clique  [265, 111, 229]\n",
            "Adding clique  [265, 120, 375]\n",
            "Adding clique  [265, 121, 433]\n",
            "Adding clique  [265, 121, 227]\n",
            "Adding clique  [265, 121, 41]\n",
            "Adding clique  [265, 143, 172]\n",
            "Adding clique  [265, 143, 397]\n",
            "Adding clique  [265, 143, 151]\n",
            "Adding clique  [265, 143, 408]\n",
            "Adding clique  [265, 159, 32]\n",
            "Adding clique  [265, 159, 360]\n",
            "Adding clique  [265, 159, 458]\n",
            "Adding clique  [265, 159, 397]\n",
            "Adding clique  [265, 183, 32]\n",
            "Adding clique  [265, 183, 67]\n",
            "Adding clique  [265, 183, 166]\n",
            "Adding clique  [265, 198, 432]\n",
            "Adding clique  [265, 227, 352]\n",
            "Adding clique  [265, 227, 436]\n",
            "Adding clique  [265, 229, 436]\n",
            "Adding clique  [265, 243, 35]\n",
            "Adding clique  [265, 243, 116]\n",
            "Adding clique  [265, 246, 182]\n",
            "Adding clique  [265, 261, 436]\n",
            "Adding clique  [265, 261, 397]\n",
            "Adding clique  [265, 302, 58]\n",
            "Adding clique  [265, 321, 41]\n",
            "Adding clique  [265, 321, 404]\n",
            "Adding clique  [265, 322, 245]\n",
            "Adding clique  [265, 360, 364]\n",
            "Adding clique  [265, 360, 404]\n",
            "Adding clique  [265, 360, 479]\n",
            "Adding clique  [265, 364, 32]\n",
            "Adding clique  [265, 364, 458]\n",
            "Adding clique  [265, 364, 397]\n",
            "Adding clique  [265, 364, 432]\n",
            "Adding clique  [265, 375, 404]\n",
            "Adding clique  [265, 386, 432]\n",
            "Adding clique  [265, 397, 41]\n",
            "Adding clique  [265, 397, 169]\n",
            "Adding clique  [265, 439, 136]\n",
            "Adding clique  [265, 465, 41]\n",
            "Adding clique  [265, 479, 432]\n",
            "Adding clique  [265, 479, 458]\n",
            "Adding clique  [269, 505, 410]\n",
            "Adding clique  [276, 555, 619]\n",
            "Adding clique  [282, 62, 392]\n",
            "Adding clique  [282, 62, 169]\n",
            "Adding clique  [289, 325, 238]\n",
            "Adding clique  [289, 56, 128]\n",
            "Adding clique  [289, 510, 217]\n",
            "Adding clique  [291, 67, 248]\n",
            "Adding clique  [291, 67, 107]\n",
            "Adding clique  [291, 67, 245]\n",
            "Adding clique  [292, 518, 328]\n",
            "Adding clique  [292, 518, 612]\n",
            "Adding clique  [292, 518, 421]\n",
            "Adding clique  [293, 570, 155]\n",
            "Adding clique  [297, 448, 518]\n",
            "Adding clique  [298, 360, 389]\n",
            "Adding clique  [299, 377, 538]\n",
            "Adding clique  [299, 377, 356]\n",
            "Adding clique  [313, 524, 488]\n",
            "Adding clique  [319, 522, 619]\n",
            "Adding clique  [323, 242, 434]\n",
            "Adding clique  [323, 242, 498]\n",
            "Adding clique  [325, 131, 238]\n",
            "Adding clique  [327, 480, 518]\n",
            "Adding clique  [328, 491, 508]\n",
            "Adding clique  [328, 518, 508]\n",
            "Adding clique  [329, 609, 545]\n",
            "Adding clique  [329, 609, 374]\n",
            "Adding clique  [335, 518, 414]\n",
            "Adding clique  [339, 444, 7]\n",
            "Adding clique  [342, 90, 597]\n",
            "Adding clique  [342, 343, 372]\n",
            "Adding clique  [342, 343, 340]\n",
            "Adding clique  [347, 524, 488]\n",
            "Adding clique  [348, 424, 518]\n",
            "Adding clique  [357, 518, 430]\n",
            "Adding clique  [357, 518, 532]\n",
            "Adding clique  [362, 429, 478]\n",
            "Adding clique  [368, 352, 470]\n",
            "Adding clique  [377, 538, 608]\n",
            "Adding clique  [377, 538, 450]\n",
            "Adding clique  [385, 498, 352]\n",
            "Adding clique  [389, 451, 554]\n",
            "Adding clique  [389, 451, 182]\n",
            "Adding clique  [389, 451, 111]\n",
            "Adding clique  [389, 229, 136]\n",
            "Adding clique  [389, 229, 554]\n",
            "Adding clique  [389, 229, 111]\n",
            "Adding clique  [389, 229, 446]\n",
            "Adding clique  [389, 454, 432]\n",
            "Adding clique  [389, 531, 67]\n",
            "Adding clique  [389, 350, 446]\n",
            "Adding clique  [403, 526, 517]\n",
            "Adding clique  [403, 526, 70]\n",
            "Adding clique  [410, 505, 67]\n",
            "Adding clique  [416, 67, 248]\n",
            "Adding clique  [416, 67, 107]\n",
            "Adding clique  [416, 67, 245]\n",
            "Adding clique  [421, 518, 524]\n",
            "Adding clique  [424, 480, 518]\n",
            "Adding clique  [434, 90, 242]\n",
            "Adding clique  [434, 90, 597]\n",
            "Adding clique  [445, 229, 576]\n",
            "Adding clique  [448, 518, 585]\n",
            "Adding clique  [448, 518, 487]\n",
            "Adding clique  [451, 345, 182]\n",
            "Adding clique  [457, 524, 518]\n",
            "Adding clique  [459, 340, 288]\n",
            "Adding clique  [459, 340, 343]\n",
            "Adding clique  [460, 88, 498]\n",
            "Adding clique  [463, 182, 350]\n",
            "Adding clique  [473, 90, 217]\n",
            "Adding clique  [473, 90, 182]\n",
            "Adding clique  [473, 245, 217]\n",
            "Adding clique  [473, 245, 340]\n",
            "Adding clique  [474, 88, 498]\n",
            "Adding clique  [474, 88, 550]\n",
            "Adding clique  [478, 497, 535]\n",
            "Adding clique  [488, 596, 524]\n",
            "Adding clique  [491, 612, 515]\n",
            "Adding clique  [498, 526, 352]\n",
            "Adding clique  [498, 526, 70]\n",
            "Adding clique  [498, 242, 248]\n",
            "Adding clique  [515, 612, 518]\n",
            "Adding clique  [518, 579, 524]\n",
            "Adding clique  [518, 566, 524]\n",
            "Adding clique  [522, 555, 619]\n",
            "Adding clique  [526, 536, 70]\n",
            "Adding clique  [526, 536, 558]\n",
            "Adding clique  [536, 288, 70]\n",
            "Adding clique  [536, 70, 116]\n",
            "Adding clique  [536, 558, 136]\n",
            "Adding clique  [536, 558, 116]\n",
            "Adding clique  [536, 558, 343]\n",
            "Adding clique  [550, 238, 90]\n",
            "Adding clique  [557, 90, 227]\n",
            "Adding clique  [557, 90, 182]\n",
            "Adding clique  [557, 90, 151]\n",
            "Adding clique  [577, 67, 43]\n",
            "Adding clique  [580, 151, 345]\n",
            "Adding clique  [580, 151, 143]\n",
            "Adding clique  [581, 32, 300]\n",
            "Adding clique  [581, 143, 408]\n",
            "Adding clique  [581, 143, 172]\n",
            "Adding clique  [581, 143, 397]\n",
            "Adding clique  [589, 601, 217]\n",
            "Adding clique  [593, 576, 288]\n",
            "Adding clique  [593, 558, 116]\n",
            "Adding clique  [593, 558, 343]\n",
            "Adding clique  [593, 340, 343]\n",
            "Adding clique  [603, 576, 361]\n",
            "Adding clique  [603, 361, 616]\n",
            "Adding clique  [603, 558, 198]\n",
            "Adding clique  [617, 217, 56]\n",
            "Adding clique  [617, 217, 317]\n"
          ]
        }
      ],
      "source": [
        "# Import the real data graph and build 2-complex\n",
        "\n",
        "# path_to_fb_pages_food_csv = './datasets/fb-pages-food/fb-pages-food.edges'\n",
        "path_to_fb_pages_food_csv = \\\n",
        "  'https://raw.githubusercontent.com/ben300694/jupyter-TDA/main/datasets/fb-pages-food/fb-pages-food.edges'\n",
        "\n",
        "fb_pages_food_st = simplex_2_complex_from_csv(path_to_fb_pages_food_csv)\n",
        "\n",
        "#for simplex in fb_pages_food_st.get_filtration():\n",
        "#    print(simplex)"
      ]
    },
    {
      "cell_type": "code",
      "execution_count": null,
      "metadata": {
        "id": "qBd1BhLUEruP",
        "outputId": "a696a597-8e66-42d1-de49-1bc472dfad55",
        "colab": {
          "base_uri": "https://localhost:8080/",
          "height": 586
        }
      },
      "outputs": [
        {
          "output_type": "execute_result",
          "data": {
            "text/plain": [
              "<matplotlib.axes._subplots.AxesSubplot at 0x7f96f98b05d0>"
            ]
          },
          "metadata": {},
          "execution_count": 33
        },
        {
          "output_type": "display_data",
          "data": {
            "text/plain": [
              "<Figure size 432x288 with 1 Axes>"
            ],
            "image/png": "[encoded data removed]"
          },
          "metadata": {
            "needs_background": "light"
          }
        },
        {
          "output_type": "display_data",
          "data": {
            "text/plain": [
              "<Figure size 432x288 with 1 Axes>"
            ],
            "image/png": "[encoded data removed]"
          },
          "metadata": {
            "needs_background": "light"
          }
        }
      ],
      "source": [
        "fb_pages_food_bar = fb_pages_food_st.persistence(min_persistence=-1.0, persistence_dim_max=True)\n",
        "#print(fb_pages_food_bar)\n",
        "\n",
        "gudhi.plot_persistence_barcode(fb_pages_food_bar, legend=True, max_intervals=0)\n",
        "\n",
        "gudhi.plot_persistence_diagram(fb_pages_food_bar, legend=True, max_intervals=0)"
      ]
    },
    {
      "cell_type": "markdown",
      "metadata": {
        "id": "JvbgMW6mEruQ"
      },
      "source": [
        "This is still a little boring, since homology classes only appear\n",
        "at integral time steps."
      ]
    },
    {
      "cell_type": "markdown",
      "metadata": {
        "id": "APwFKN8HEruQ"
      },
      "source": [
        "## The weight rank clique filtration\n",
        "\n",
        "Quoting from Nguyen, Aktas, Akbas: Bot Detection on Social Networks Using Persistent Homology:\n",
        "\n",
        "\n",
        "\"Instead of working the clique complex of the whole graph, we can\n",
        "induce a family of simplicial complexes out of the clique complex of the subgraphs of G and track how\n",
        "homology changes in this family\"\n",
        "\n",
        "\"One of the popular filtration methods defined on undirected weighted networks is called\n",
        "weight rank clique filtration. This filtration, first defined in [22], uses weights as threshold values\n",
        "δ. The authors first rank the edge weights from wmin to wmax (it can also be done in other direction,\n",
        "from wmax to wmin as well) and let the parameter increase from wmin to wmax. At each step δ, they just\n",
        "consider the thresholded subgraph Gδ ⊆ G that is the subgraph with edges of weight larger than δ.\n",
        "Then, they create the clique complex of Gδ\n",
        "to obtain the filtration.\""
      ]
    },
    {
      "cell_type": "code",
      "execution_count": null,
      "metadata": {
        "id": "foIEl7OlEruQ",
        "outputId": "ad7918ca-9ed2-4fd5-8d67-f6c9cf674424",
        "colab": {
          "base_uri": "https://localhost:8080/",
          "height": 854
        }
      },
      "outputs": [
        {
          "output_type": "stream",
          "name": "stdout",
          "text": [
            "        A    B\n",
            "0       0  276\n",
            "1       0   58\n",
            "2       0  132\n",
            "3       0  603\n",
            "4       0  398\n",
            "...   ...  ...\n",
            "2097  597  611\n",
            "2098  601  603\n",
            "2099  601  616\n",
            "2100  603  616\n",
            "2101  311  613\n",
            "\n",
            "[2102 rows x 2 columns]\n",
            "Imported graph with 620 nodes and 2102 edges.\n"
          ]
        },
        {
          "output_type": "execute_result",
          "data": {
            "text/plain": [
              "<matplotlib.axes._subplots.AxesSubplot at 0x7f96f98a4f50>"
            ]
          },
          "metadata": {},
          "execution_count": 35
        },
        {
          "output_type": "display_data",
          "data": {
            "text/plain": [
              "<Figure size 432x288 with 1 Axes>"
            ],
            "image/png": "[encoded data removed]"
          },
          "metadata": {
            "needs_background": "light"
          }
        },
        {
          "output_type": "display_data",
          "data": {
            "text/plain": [
              "<Figure size 432x288 with 1 Axes>"
            ],
            "image/png": "[encoded data removed]"
          },
          "metadata": {
            "needs_background": "light"
          }
        }
      ],
      "source": [
        "# Import the real data graph and build weighted 1-complex\n",
        "\n",
        "# path_to_fb_pages_food_csv = './datasets/fb-pages-food/fb-pages-food.edges'\n",
        "path_to_fb_pages_food_csv = \\\n",
        "  'https://raw.githubusercontent.com/ben300694/jupyter-TDA/main/datasets/fb-pages-food/fb-pages-food.edges'\n",
        "\n",
        "# Create networkx graph from edge list\n",
        "dataframe = pd.read_csv(path_to_fb_pages_food_csv, names=['A', 'B'])\n",
        "print(dataframe)\n",
        "G_nx = networkx.from_pandas_edgelist(dataframe, 'A', 'B')\n",
        "print(\"Imported graph with\", G_nx.number_of_nodes(), \"nodes and\", G_nx.number_of_edges(), \"edges.\")\n",
        "\n",
        "# Create simplex tree\n",
        "fb_pages_food_st = gudhi.SimplexTree()\n",
        "\n",
        "# Insert vertices into simplex tree\n",
        "for v in G_nx.nodes():\n",
        "    if G_nx.degree(v) != 0:\n",
        "        fb_pages_food_st.insert([v], 1/(G_nx.degree(v)))\n",
        "\n",
        "\n",
        "fb_pages_food_bar = fb_pages_food_st.persistence(min_persistence=-1.0, persistence_dim_max=True)\n",
        "# print(fb_pages_food_bar)\n",
        "\n",
        "gudhi.plot_persistence_barcode(fb_pages_food_bar, legend=True, max_intervals=0)\n",
        "gudhi.plot_persistence_diagram(fb_pages_food_bar, legend=True, max_intervals=0)"
      ]
    },
    {
      "cell_type": "code",
      "execution_count": null,
      "metadata": {
        "id": "pZkv2PnlEruQ",
        "outputId": "52d50ca2-29b9-407e-c388-04994f8c3da6",
        "colab": {
          "base_uri": "https://localhost:8080/",
          "height": 586
        }
      },
      "outputs": [
        {
          "output_type": "execute_result",
          "data": {
            "text/plain": [
              "<matplotlib.axes._subplots.AxesSubplot at 0x7f96f679c210>"
            ]
          },
          "metadata": {},
          "execution_count": 36
        },
        {
          "output_type": "display_data",
          "data": {
            "text/plain": [
              "<Figure size 432x288 with 1 Axes>"
            ],
            "image/png": "[encoded data removed]"
          },
          "metadata": {
            "needs_background": "light"
          }
        },
        {
          "output_type": "display_data",
          "data": {
            "text/plain": [
              "<Figure size 432x288 with 1 Axes>"
            ],
            "image/png": "[encoded data removed]"
          },
          "metadata": {
            "needs_background": "light"
          }
        }
      ],
      "source": [
        "#Insert edges into simplex tree with filtration value the maximum of its endpoints\n",
        "for e in G_nx.edges():\n",
        "    fb_pages_food_st.insert(e, max(fb_pages_food_st.filtration([e[0]]), fb_pages_food_st.filtration([e[1]])))\n",
        "\n",
        "fb_pages_food_bar = fb_pages_food_st.persistence(min_persistence=-1.0, persistence_dim_max=True)\n",
        "    \n",
        "gudhi.plot_persistence_barcode(fb_pages_food_bar, legend=True, max_intervals=0)\n",
        "gudhi.plot_persistence_diagram(fb_pages_food_bar, legend=True, max_intervals=0)"
      ]
    },
    {
      "cell_type": "code",
      "execution_count": null,
      "metadata": {
        "id": "sUFTJ79AEruQ",
        "outputId": "5fd066de-a7f1-4fa7-8d86-ed885f5aa50e",
        "colab": {
          "base_uri": "https://localhost:8080/",
          "height": 586
        }
      },
      "outputs": [
        {
          "output_type": "execute_result",
          "data": {
            "text/plain": [
              "<matplotlib.axes._subplots.AxesSubplot at 0x7f96e74cdbd0>"
            ]
          },
          "metadata": {},
          "execution_count": 38
        },
        {
          "output_type": "display_data",
          "data": {
            "text/plain": [
              "<Figure size 432x288 with 1 Axes>"
            ],
            "image/png": "[encoded data removed]"
          },
          "metadata": {
            "needs_background": "light"
          }
        },
        {
          "output_type": "display_data",
          "data": {
            "text/plain": [
              "<Figure size 432x288 with 1 Axes>"
            ],
            "image/png": "[encoded data removed]"
          },
          "metadata": {
            "needs_background": "light"
          }
        }
      ],
      "source": [
        "# Expand simplex tree by constructing flag complex up to max_dim,\n",
        "# the filtration of a simplex is the maximal filtration index of its vertices\n",
        "max_dim = 4\n",
        "fb_pages_food_st.expansion(max_dim)\n",
        "\n",
        "fb_pages_food_bar = fb_pages_food_st.persistence(min_persistence=-1.0, persistence_dim_max=True)\n",
        "    \n",
        "gudhi.plot_persistence_barcode(fb_pages_food_bar, legend=True, max_intervals=0)\n",
        "gudhi.plot_persistence_diagram(fb_pages_food_bar, legend=True, max_intervals=0)"
      ]
    },
    {
      "cell_type": "code",
      "execution_count": null,
      "metadata": {
        "id": "CaI0n5DLEruR"
      },
      "outputs": [],
      "source": [
        "def simplex_graph_with_weight_rank_clique_filtration_from_csv(path_to_csv, \n",
        "                                                              max_dim=4):\n",
        "    \"\"\"\n",
        "    Input: Path to csv file with list of edges\n",
        "    \n",
        "    Output: Build the clique complex of the graph\n",
        "    where the vertices are weighted by the reciprocal of their degree\n",
        "    \"\"\"\n",
        "    # Create networkx graph from edge list\n",
        "    dataframe = pd.read_csv(path_to_csv, names=['A', 'B'])\n",
        "    G_nx = networkx.from_pandas_edgelist(dataframe, 'A', 'B')\n",
        "    print(\"Imported graph with\", \n",
        "          G_nx.number_of_nodes(), \"nodes and\",\n",
        "          G_nx.number_of_edges(), \"edges.\")\n",
        "\n",
        "    # Create simplex tree\n",
        "    st = gudhi.SimplexTree()\n",
        "\n",
        "    # Insert vertices into simplex tree\n",
        "    for v in G_nx.nodes():\n",
        "        if G_nx.degree(v) != 0:\n",
        "            st.insert([v], 1/(G_nx.degree(v)))\n",
        "    \n",
        "    # Insert edges into simplex tree with\n",
        "    # filtration value the maximum of its endpoints\n",
        "    for e in G_nx.edges():\n",
        "        st.insert(e, max(st.filtration([e[0]]), st.filtration([e[1]])))\n",
        "\n",
        "    \n",
        "    # Expand simplex tree by constructing flag complex up to max_dim,\n",
        "    # the filtration of a simplex is the maximal filtration index of its vertices\n",
        "    st.expansion(max_dim)\n",
        "    \n",
        "    return st"
      ]
    },
    {
      "cell_type": "code",
      "execution_count": null,
      "metadata": {
        "id": "tWwZn8CfEruR"
      },
      "outputs": [],
      "source": [
        "def simplex_graph_with_normalized_weight_rank_clique_filtration_from_csv(path_to_csv,\n",
        "                                                                         max_dim=4):\n",
        "    \"\"\"\n",
        "    Input: Path to csv file with list of edges\n",
        "    \n",
        "    Output: Build the clique complex of the graph\n",
        "    where the vertices are weighted by the reciprocal of their degree\n",
        "    and we have normalized to take the maximal degree into account\n",
        "    \"\"\"\n",
        "    # Create networkx graph from edge list\n",
        "    dataframe = pd.read_csv(path_to_csv, names=['A', 'B'])\n",
        "    G_nx = networkx.from_pandas_edgelist(dataframe, 'A', 'B')\n",
        "    print(\"Imported graph with\", \n",
        "          G_nx.number_of_nodes(), \"nodes and\",\n",
        "          G_nx.number_of_edges(), \"edges.\")\n",
        "\n",
        "    # Calculating maximal degree\n",
        "    # (will be needed to normalize the filtration later)\n",
        "    degrees = [val for (node, val) in G_nx.degree()]\n",
        "    max_degree = max(degrees)\n",
        "    print(\"Maximal degree in the graph is\", max_degree)\n",
        "    \n",
        "    # Create simplex tree\n",
        "    st = gudhi.SimplexTree()\n",
        "\n",
        "    # Insert vertices into simplex tree\n",
        "    # Filtration by degree of vertex, where the degree\n",
        "    # is scaled linearly to lie in the interval [0, 1]\n",
        "    for v in G_nx.nodes():\n",
        "        if G_nx.degree(v) != 0:\n",
        "            st.insert([v], 1 - G_nx.degree(v)/max_degree)\n",
        "    \n",
        "    # Insert edges into simplex tree with\n",
        "    # filtration value the maximum of its endpoints\n",
        "    for e in G_nx.edges():\n",
        "        st.insert(e, max(st.filtration([e[0]]), st.filtration([e[1]])))\n",
        "\n",
        "    \n",
        "    # Expand simplex tree by constructing flag complex up to max_dim,\n",
        "    # the filtration of a simplex is the maximal filtration index of its vertices\n",
        "    st.expansion(max_dim)\n",
        "    \n",
        "    return st"
      ]
    },
    {
      "cell_type": "code",
      "execution_count": null,
      "metadata": {
        "id": "3_km-99kEruR",
        "colab": {
          "base_uri": "https://localhost:8080/",
          "height": 356
        },
        "outputId": "69d91e8a-8801-467e-8772-faa085a2eca5"
      },
      "outputs": [
        {
          "output_type": "stream",
          "name": "stdout",
          "text": [
            "Imported graph with 620 nodes and 2102 edges.\n",
            "Maximal degree in the graph is 134\n"
          ]
        },
        {
          "output_type": "execute_result",
          "data": {
            "text/plain": [
              "<matplotlib.axes._subplots.AxesSubplot at 0x7f96f4284150>"
            ]
          },
          "metadata": {},
          "execution_count": 43
        },
        {
          "output_type": "display_data",
          "data": {
            "text/plain": [
              "<Figure size 432x288 with 1 Axes>"
            ],
            "image/png": "[encoded data removed]"
          },
          "metadata": {
            "needs_background": "light"
          }
        }
      ],
      "source": [
        "# Building normalized filtered clique complex for the food pages graph\n",
        "\n",
        "# path_to_fb_pages_food_csv = './datasets/fb-pages-food/fb-pages-food.edges'\n",
        "path_to_fb_pages_food_csv = \\\n",
        "  'https://raw.githubusercontent.com/ben300694/jupyter-TDA/main/datasets/fb-pages-food/fb-pages-food.edges'\n",
        "\n",
        "fb_pages_food_normalized_st = simplex_graph_with_normalized_weight_rank_clique_filtration_from_csv(path_to_fb_pages_food_csv, \n",
        "                                                                                                   max_dim=4)\n",
        "\n",
        "# for simplex in fb_pages_government_st.get_filtration():\n",
        "#     print(simplex)\n",
        "\n",
        "fb_pages_normalized_food_bar = fb_pages_food_normalized_st.persistence(min_persistence=-1.0, \n",
        "                                                                       persistence_dim_max=True)\n",
        "\n",
        "# print(len(fb_pages_government_bar))\n",
        "# for bar in fb_pages_government_bar:\n",
        "#     print(bar)\n",
        "\n",
        "gudhi.plot_persistence_diagram(fb_pages_normalized_food_bar, legend=True, max_intervals=0)"
      ]
    },
    {
      "cell_type": "markdown",
      "metadata": {
        "id": "5KHhPIWkEruR"
      },
      "source": [
        "## Conclusion"
      ]
    },
    {
      "cell_type": "markdown",
      "metadata": {
        "id": "katFFjbOEruR"
      },
      "source": [
        "We could now analyze the persistence diagrams further\n",
        "and for example compare the food pages graph with say a politics graph."
      ]
    },
    {
      "cell_type": "code",
      "execution_count": null,
      "metadata": {
        "id": "BPxRqGL1EruR",
        "outputId": "10b10b19-e899-47e0-c2e2-8f67f2e510c5",
        "colab": {
          "base_uri": "https://localhost:8080/",
          "height": 320
        }
      },
      "outputs": [
        {
          "output_type": "stream",
          "name": "stdout",
          "text": [
            "Imported graph with 7057 nodes and 89455 edges.\n"
          ]
        },
        {
          "output_type": "display_data",
          "data": {
            "text/plain": [
              "<Figure size 432x288 with 1 Axes>"
            ],
            "image/png": "[encoded data removed]"
          },
          "metadata": {
            "needs_background": "light"
          }
        }
      ],
      "source": [
        "# fb-pages_food.edges is already imported above\n",
        "\n",
        "# path_to_fb_pages_government_csv = './datasets/fb-pages-government/fb-pages-government.edges'\n",
        "path_to_fb_pages_government_csv = \\\n",
        "  'https://raw.githubusercontent.com/ben300694/jupyter-TDA/main/datasets/fb-pages-government/fb-pages-government.edges'\n",
        "\n",
        "fb_pages_government_st = simplex_graph_with_weight_rank_clique_filtration_from_csv(path_to_fb_pages_government_csv,\n",
        "                                                                                   max_dim=2)\n",
        "\n",
        "# for simplex in fb_pages_government_st.get_filtration():\n",
        "#     print(simplex)\n",
        "\n",
        "\n",
        "fb_pages_government_bar = fb_pages_government_st.persistence(min_persistence=-1.0, persistence_dim_max=True)\n",
        "\n",
        "# print(len(fb_pages_government_bar))\n",
        "# for bar in fb_pages_government_bar:\n",
        "#     print(bar)\n",
        "\n",
        "gudhi.plot_persistence_diagram(fb_pages_government_bar, legend=True, max_intervals=500)\n",
        "\n",
        "##########\n",
        "\n",
        "# Comparing different persistence diagrams using the bottleneck distance\n",
        "# persistence_interval_dim_1_1 = fb_pages_food_st.persistence_intervals_in_dimension(1)\n",
        "# persistence_interval_dim_1_2 = fb_pages_government_st.persistence_intervals_in_dimension(1)\n",
        "\n",
        "# print(gudhi.bottleneck_distance(persistence_interval_dim_1_1,\n",
        "#                                 persistence_interval_dim_1_2))\n",
        "\n",
        "\n",
        "##########\n",
        "\n",
        "# path_to_fb_pages_politician_csv = './datasets/fb-pages-politician/fb-pages-politician.edges'\n",
        "path_to_fb_pages_politician_csv = \\\n",
        "  'https://raw.githubusercontent.com/ben300694/jupyter-TDA/main/datasets/fb-pages-politician/fb-pages-politician.edges'"
      ]
    },
    {
      "cell_type": "markdown",
      "metadata": {
        "id": "WEjHipoOEruS"
      },
      "source": [
        "### Properties of the data we could detect with persistent homology\n",
        "\n",
        " * Qualitative large scale features in the data\n",
        " * Measures both the global and local topology of a dataset\n",
        " * We can use the persistence data as input for further machine learning applications\n",
        " \n",
        "### Drawbacks of using persistent homology\n",
        "\n",
        " * Have to deal with noise in the data and stability\n",
        " * For example, points close to the diagonal in the persistence diagram only appear for a short time: these could come from random fluctuations in the data, but could also represent local properties\n",
        " * It can be challanging to interpret the meaning of the persistent homology groups for the application"
      ]
    },
    {
      "cell_type": "markdown",
      "metadata": {
        "id": "L2GX3yklEruS"
      },
      "source": [
        "## References\n",
        "\n",
        " * An introduction to Topological Data Analysis: fundamental and practical aspects for data scientists: https://arxiv.org/abs/1710.04019\n",
        " * Bot Detection on Social Networks Using Persistent Homology: https://www.semanticscholar.org/paper/Bot-Detection-on-Social-Networks-Using-Persistent-Nguyen-Aktas/e3944fac408415965b3d24d52d3ac7b7a0e9aa17\n",
        " * Persistent Homology of Collaboration Networks: https://www.hindawi.com/journals/mpe/2013/815035/\n",
        " \n",
        " \n",
        " \n",
        "### Python libraries used\n",
        "\n",
        "#### TDA tools\n",
        "\n",
        " * [GUDHI Python module](https://gudhi.inria.fr/)\n",
        " * https://github.com/GUDHI/TDA-tutorial\n",
        "\n",
        "#### Graphs\n",
        "\n",
        " * https://networkx.org/\n",
        "\n",
        "\n",
        "\n",
        "### Datasets\n",
        " \n",
        " @inproceedings{nr,\n",
        "      title = {The Network Data Repository with Interactive Graph Analytics and Visualization},\n",
        "      author={Ryan A. Rossi and Nesreen K. Ahmed},\n",
        "      booktitle = {AAAI},\n",
        "      url={https://networkrepository.com},\n",
        "      year={2015}\n",
        " }"
      ]
    },
    {
      "cell_type": "markdown",
      "metadata": {
        "id": "J7b7BWPJEruS"
      },
      "source": [
        "### Appendix: Vietoris-Rips complex from Distance matrix\n",
        "\n",
        "We will consider the following graph with 5 vertices where pairwise distances are encoded in the following matrix:"
      ]
    },
    {
      "cell_type": "code",
      "execution_count": null,
      "metadata": {
        "id": "MenyiA99EruS"
      },
      "outputs": [],
      "source": [
        "toy_matrix = [[0,1,1,2,inf],\n",
        "              [1,0,2,1,inf],\n",
        "              [1,2,0,1,inf],\n",
        "              [2,1,1,0,inf],\n",
        "              [inf,inf,inf,inf,0]]"
      ]
    },
    {
      "cell_type": "markdown",
      "metadata": {
        "id": "tj5Lv9kHEruS"
      },
      "source": [
        "<img src=\"https://github.com/ben300694/jupyter-TDA/blob/main/img/graph_distances.jpg?raw=1\" width=400 title=\"Graph with unit length edges.\"/>\n",
        "\n",
        "Vietoris-Rips filtration for $r \\in \\mathbb{R}_{\\ge 0}$:\n",
        "Insert a simplex for any finite set of vertices that has diameter at most $r$."
      ]
    },
    {
      "cell_type": "code",
      "execution_count": null,
      "metadata": {
        "id": "272zNNXYEruS",
        "outputId": "582b6346-b381-4d9e-969a-84eb3c07a18a"
      },
      "outputs": [
        {
          "name": "stdout",
          "output_type": "stream",
          "text": [
            "([0], 0.0)\n",
            "([1], 0.0)\n",
            "([2], 0.0)\n",
            "([3], 0.0)\n",
            "([4], 0.0)\n",
            "([0, 1], 1.0)\n",
            "([0, 2], 1.0)\n",
            "([1, 3], 1.0)\n",
            "([2, 3], 1.0)\n",
            "([1, 2], 2.0)\n",
            "([0, 1, 2], 2.0)\n",
            "([0, 3], 2.0)\n",
            "([0, 1, 3], 2.0)\n",
            "([0, 2, 3], 2.0)\n",
            "([1, 2, 3], 2.0)\n",
            "([0, 1, 2, 3], 2.0)\n"
          ]
        }
      ],
      "source": [
        "graph_distance_matrix = toy_matrix\n",
        "\n",
        "# Build Vietoris-Rips complex\n",
        "\n",
        "skeleton = gudhi.RipsComplex(\n",
        "    distance_matrix = graph_distance_matrix,\n",
        "    max_edge_length = 5.0\n",
        ")\n",
        "\n",
        "Rips_simplex_tree = skeleton.create_simplex_tree(max_dimension = 3)\n",
        "\n",
        "for simplex in Rips_simplex_tree.get_filtration():\n",
        "    print(simplex)"
      ]
    },
    {
      "cell_type": "code",
      "execution_count": null,
      "metadata": {
        "id": "SrpBYKe6EruS",
        "outputId": "cf3c5450-f536-4417-91cd-0f8ddc277a11"
      },
      "outputs": [
        {
          "name": "stdout",
          "output_type": "stream",
          "text": [
            "[(1, (1.0, 2.0)), (0, (0.0, inf)), (0, (0.0, inf)), (0, (0.0, 1.0)), (0, (0.0, 1.0)), (0, (0.0, 1.0))]\n"
          ]
        }
      ],
      "source": [
        "# Compute persistence of the simplex tree\n",
        "BarCodes_Rips = Rips_simplex_tree.persistence(min_persistence=0.0, persistence_dim_max=True)\n",
        "\n",
        "print(BarCodes_Rips)"
      ]
    },
    {
      "cell_type": "code",
      "execution_count": null,
      "metadata": {
        "id": "FmTnsastEruT",
        "outputId": "47981e98-5eea-449c-ea0d-f1d385b43b67"
      },
      "outputs": [
        {
          "data": {
            "text/plain": [
              "<AxesSubplot:title={'center':'Persistence diagram'}, xlabel='Birth', ylabel='Death'>"
            ]
          },
          "execution_count": 21,
          "metadata": {},
          "output_type": "execute_result"
        },
        {
          "data": {
            "image/png": "[encoded data removed]",
            "text/plain": [
              "<Figure size 432x288 with 1 Axes>"
            ]
          },
          "metadata": {
            "needs_background": "light"
          },
          "output_type": "display_data"
        }
      ],
      "source": [
        "gudhi.plot_persistence_diagram(persistence=BarCodes_Rips, legend=True)"
      ]
    },
    {
      "cell_type": "code",
      "execution_count": null,
      "metadata": {
        "id": "It_kvDo2EruT",
        "outputId": "f4e58b09-8e6c-4724-b724-d48a75cd87aa"
      },
      "outputs": [
        {
          "data": {
            "text/plain": [
              "<AxesSubplot:title={'center':'Persistence barcode'}>"
            ]
          },
          "execution_count": 9,
          "metadata": {},
          "output_type": "execute_result"
        },
        {
          "data": {
            "image/png": "[encoded data removed]",
            "text/plain": [
              "<Figure size 432x288 with 1 Axes>"
            ]
          },
          "metadata": {
            "needs_background": "light"
          },
          "output_type": "display_data"
        }
      ],
      "source": [
        "gudhi.plot_persistence_barcode(persistence=BarCodes_Rips, legend=True)"
      ]
    }
  ],
  "metadata": {
    "kernelspec": {
      "display_name": "Python 3 (ipykernel)",
      "language": "python",
      "name": "python3"
    },
    "language_info": {
      "codemirror_mode": {
        "name": "ipython",
        "version": 3
      },
      "file_extension": ".py",
      "mimetype": "text/x-python",
      "name": "python",
      "nbconvert_exporter": "python",
      "pygments_lexer": "ipython3",
      "version": "3.9.6"
    },
    "colab": {
      "name": "15 min intro to persistence homology and application to graphs.ipynb",
      "provenance": [],
      "collapsed_sections": [],
      "include_colab_link": true
    }
  },
  "nbformat": 4,
  "nbformat_minor": 0
}