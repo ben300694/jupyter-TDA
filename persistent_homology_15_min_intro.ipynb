{
 "cells": [
  {
   "cell_type": "markdown",
   "metadata": {
    "tags": []
   },
   "source": [
    "# 15 min Intro to Persistent Homology\n",
    "### <a href=\"https://ben300694.github.io/\" target=\"_blank\">Benjamin Matthias Ruppik</a>, Max-Planck Institute for Mathematics, Bonn"
   ]
  },
  {
   "cell_type": "markdown",
   "metadata": {
    "tags": []
   },
   "source": [
    "## Filtrations of topological spaces\n",
    "\n",
    "\n",
    "### Motivating example: Sublevel filtrations\n",
    "\n",
    "A lot of topological spaces $X$ come with a natural *filtration*,\n",
    "an increasing union of subspaces $X_{i}$,\n",
    "i.e. for $i < j$ in the index set we have $X_{i} \\subseteq X_{j}$.\n",
    "\n",
    "Here is an example of a topological space $X$\n",
    "(with a Morse function $f \\colon X \\rightarrow \\mathbb{R}$)\n",
    "and the *sublevel set filtration*\n",
    "$X_{r} = f^{-1}((-\\infty, r])$:"
   ]
  },
  {
   "cell_type": "markdown",
   "metadata": {},
   "source": [
    "<img src=\"img/topological_space_Morse_position.jpg\" width=400 title=\"Surface of genus 2 in Morse position with 3 minima, 7 saddles, 2 maxima\"/>\n",
    "\n",
    "<img src=\"img/Morse_sublevel_filtration.jpg\" width=600 title=\"Surface of genus 2 sublevel filtration\"/>\n",
    "\n",
    "<img src=\"img/Morse_complete_sublevel_filration.png\" width=900 title=\"Surface of genus 2 sublevel filtration 8 movie frames\"/>"
   ]
  },
  {
   "cell_type": "markdown",
   "metadata": {},
   "source": [
    "### Persistent homology\n",
    "\n",
    "The $i$-dimensional homology group of a space measures $i$-dimensional holes (or cavities).\n",
    "$H_{i}(X)$ = $i$-dim cycles modulo boundaries\n",
    "\n",
    "Here are some examples of 1-dimensional homology classes:\n",
    "\n",
    "**TODO**\n",
    "\n",
    "persist = to stick around for a long time\n",
    "\n",
    "Example where a first homology class persists from its appearance until the end:\n",
    "\n",
    "**TODO**\n",
    "\n",
    "Example where a first homology class appears but then is cancelled at a maximum\n",
    "\n",
    "**TODO**\n",
    "\n",
    "\n",
    "Slogan: Persistent homology measures non-trivial cycles which can be detected in significant parts ofthe filtrations."
   ]
  },
  {
   "cell_type": "markdown",
   "metadata": {},
   "source": [
    "## Toy data and Simplex trees\n",
    "\n",
    "### Defining a simplicial complex with filtration\n"
   ]
  },
  {
   "cell_type": "markdown",
   "metadata": {},
   "source": [
    "<img src=\"img/toy_simplicial_complex.jpg\" width=800 title=\"Toy simplicial complex\"/>"
   ]
  },
  {
   "cell_type": "code",
   "execution_count": 1,
   "metadata": {},
   "outputs": [],
   "source": [
    "import pandas\n",
    "import gudhi\n",
    "import numpy as np\n",
    "import networkx\n",
    "from pylab import *"
   ]
  },
  {
   "cell_type": "code",
   "execution_count": 22,
   "metadata": {},
   "outputs": [
    {
     "name": "stdout",
     "output_type": "stream",
     "text": [
      "([0], 0.0)\n",
      "([1], 0.0)\n",
      "([2], 0.0)\n",
      "([3], 0.0)\n",
      "([4], 0.0)\n",
      "([0, 1], 1.0)\n",
      "([0, 2], 1.0)\n",
      "([1, 3], 1.0)\n",
      "([2, 3], 1.0)\n",
      "([1, 2], 2.0)\n",
      "([0, 1, 2], 3.0)\n",
      "([3, 4], 3.0)\n"
     ]
    }
   ],
   "source": [
    "# Toy example working with the simplex tree\n",
    "\n",
    "toy_st = gudhi.SimplexTree()\n",
    "\n",
    "# 0-simplicies in filtration level 0.0\n",
    "for i in range(0, 5):\n",
    "    toy_st.insert([i], 0.0)\n",
    "\n",
    "# 1-simplicies in filtration level 1.0\n",
    "toy_st.insert([0, 1], 1.0)\n",
    "toy_st.insert([0, 2], 1.0)\n",
    "toy_st.insert([1, 3], 1.0)\n",
    "toy_st.insert([2, 3], 1.0)\n",
    "\n",
    "# additional 1-simplex in filtration level 2.0\n",
    "toy_st.insert([1, 2], 2.0)\n",
    "\n",
    "# last 1-simplex and 2-simplex\n",
    "toy_st.insert([3, 4], 3.0)\n",
    "toy_st.insert([0, 1, 2], 3.0)\n",
    "\n",
    "for simplex in toy_st.get_filtration():\n",
    "    print(simplex)"
   ]
  },
  {
   "cell_type": "markdown",
   "metadata": {},
   "source": [
    "<img src=\"img/toy_simplicial_complex_homology.jpg\" width=800 title=\"Toy simplicial complex with homology classes\"/>"
   ]
  },
  {
   "cell_type": "code",
   "execution_count": 23,
   "metadata": {},
   "outputs": [
    {
     "name": "stdout",
     "output_type": "stream",
     "text": [
      "[(1, (1.0, inf)), (1, (2.0, 3.0)), (0, (0.0, inf)), (0, (0.0, 3.0)), (0, (0.0, 1.0)), (0, (0.0, 1.0)), (0, (0.0, 1.0))]\n"
     ]
    },
    {
     "data": {
      "text/plain": [
       "<AxesSubplot:title={'center':'Persistence diagram'}, xlabel='Birth', ylabel='Death'>"
      ]
     },
     "execution_count": 23,
     "metadata": {},
     "output_type": "execute_result"
    },
    {
     "data": {
      "image/png": "[encoded data removed]",
      "text/plain": [
       "<Figure size 432x288 with 1 Axes>"
      ]
     },
     "metadata": {
      "needs_background": "light"
     },
     "output_type": "display_data"
    }
   ],
   "source": [
    "toy_bar = toy_st.persistence(min_persistence=0.0, persistence_dim_max=True)\n",
    "print(toy_bar)\n",
    "\n",
    "gudhi.plot_persistence_diagram(persistence=toy_bar, legend=True)"
   ]
  },
  {
   "cell_type": "code",
   "execution_count": 25,
   "metadata": {},
   "outputs": [
    {
     "data": {
      "text/plain": [
       "<AxesSubplot:title={'center':'Persistence barcode'}>"
      ]
     },
     "execution_count": 25,
     "metadata": {},
     "output_type": "execute_result"
    },
    {
     "data": {
      "image/png": "[encoded data removed]",
      "text/plain": [
       "<Figure size 432x288 with 1 Axes>"
      ]
     },
     "metadata": {
      "needs_background": "light"
     },
     "output_type": "display_data"
    }
   ],
   "source": [
    "gudhi.plot_persistence_barcode(persistence=toy_bar, legend=True)"
   ]
  },
  {
   "cell_type": "code",
   "execution_count": null,
   "metadata": {},
   "outputs": [],
   "source": []
  },
  {
   "cell_type": "markdown",
   "metadata": {},
   "source": [
    "## Persistent homology applied to \"real data\": Clique complex of a graph\n",
    "\n",
    "Repository of various graphs https://networkrepository.com/index.php\n",
    "\n",
    "<img src=\"img/network_repository_website.png\" width=700 title=\"Screenshot of the Network Repositoy website\"/>\n",
    "\n",
    "Let us take a graph representing a social network:\n",
    " * each vertex represents a food-related facebook page\n",
    " * there is an edge between the vertices v and w whenever the pages mutually follow each other\n"
   ]
  },
  {
   "cell_type": "markdown",
   "metadata": {},
   "source": [
    "The clique complex of any graph G is exactly a Vietoris–Rips complex for the metric space \n",
    "where the points are vertices of G and and the distances are the lengths of the shortest paths in G\n",
    "This is also known as the flag complex of a graph.\n"
   ]
  },
  {
   "cell_type": "code",
   "execution_count": 65,
   "metadata": {},
   "outputs": [],
   "source": [
    "def simplex_graph_from_csv(path_to_csv, delimiter=','):\n",
    "    \"\"\"\n",
    "    Input: Path to csv file with list of edges\n",
    "    \n",
    "    Output: 1-skeleton of simplex tree\n",
    "    \"\"\"\n",
    "    # Create networkx graph from edge list\n",
    "    G_nx = networkx.read_edgelist('/home/ben/git-source/jupyter-TDA/datasets/toy_graph.txt', delimiter=',', nodetype=int)\n",
    "    \n",
    "    # Create simplex tree\n",
    "    st = gudhi.SimplexTree()\n",
    "\n",
    "    # Insert vertices into simplex tree\n",
    "    for v in G_nx.nodes():\n",
    "        st.insert([v], 0.0)\n",
    "    # Insert edges into simplex tree\n",
    "    for e in G_nx.edges():\n",
    "        st.insert(e, 1.0)\n",
    "\n",
    "    return st"
   ]
  },
  {
   "cell_type": "code",
   "execution_count": 76,
   "metadata": {},
   "outputs": [],
   "source": [
    "def simplex_2_complex_from_csv(path_to_csv, delimiter=','):\n",
    "    \"\"\"\n",
    "    Input: Path to csv file with list of edges\n",
    "    \n",
    "    Output: 1-skeleton of simplex tree\n",
    "    \"\"\"\n",
    "    # Create networkx graph from edge list\n",
    "    G_nx = networkx.read_edgelist('/home/ben/git-source/jupyter-TDA/datasets/toy_graph.txt', delimiter=',', nodetype=int)\n",
    "    \n",
    "    # Create simplex tree\n",
    "    st = gudhi.SimplexTree()\n",
    "\n",
    "    # Insert vertices into simplex tree\n",
    "    for v in G_nx.nodes():\n",
    "        st.insert([v], 0.0)\n",
    "    # Insert edges into simplex tree\n",
    "    for e in G_nx.edges():\n",
    "        st.insert(e, 1.0)\n",
    "        \n",
    "    # Inserting cliques with 3 members\n",
    "    for clq in networkx.clique.find_cliques(G_nx):\n",
    "        if len(clq) == 3:\n",
    "            print('Adding clique ', clq)\n",
    "            st.insert(clq, 2.0)\n",
    "        \n",
    "    return st"
   ]
  },
  {
   "cell_type": "code",
   "execution_count": 78,
   "metadata": {},
   "outputs": [
    {
     "name": "stdout",
     "output_type": "stream",
     "text": [
      "Adding clique  [0, 2, 1]\n",
      "Adding clique  [0, 2, 3]\n",
      "([0], 0.0)\n",
      "([1], 0.0)\n",
      "([2], 0.0)\n",
      "([3], 0.0)\n",
      "([4], 0.0)\n",
      "([0, 1], 1.0)\n",
      "([0, 2], 1.0)\n",
      "([1, 2], 1.0)\n",
      "([0, 3], 1.0)\n",
      "([2, 3], 1.0)\n",
      "([0, 4], 1.0)\n",
      "([0, 1, 2], 2.0)\n",
      "([0, 2, 3], 2.0)\n",
      "[(1, (1.0, 2.0)), (1, (1.0, 2.0)), (0, (0.0, inf)), (0, (0.0, 1.0)), (0, (0.0, 1.0)), (0, (0.0, 1.0)), (0, (0.0, 1.0))]\n"
     ]
    },
    {
     "data": {
      "text/plain": [
       "<AxesSubplot:title={'center':'Persistence diagram'}, xlabel='Birth', ylabel='Death'>"
      ]
     },
     "execution_count": 78,
     "metadata": {},
     "output_type": "execute_result"
    },
    {
     "data": {
      "image/png": "[encoded data removed]",
      "text/plain": [
       "<Figure size 432x288 with 1 Axes>"
      ]
     },
     "metadata": {
      "needs_background": "light"
     },
     "output_type": "display_data"
    }
   ],
   "source": [
    "# Toy example working with the simplex 2-complex\n",
    "path_to_toy_csv = '/home/ben/git-source/jupyter-TDA/datasets/toy_graph.txt'\n",
    "\n",
    "toy_st = simplex_2_complex_from_csv(path_to_toy_csv)\n",
    "\n",
    "for simplex in toy_st.get_filtration():\n",
    "    print(simplex)\n",
    "    \n",
    "toy_bar = toy_st.persistence(min_persistence=-1.0, persistence_dim_max=True)\n",
    "print(toy_bar)\n",
    "\n",
    "gudhi.plot_persistence_diagram(toy_bar)"
   ]
  },
  {
   "cell_type": "code",
   "execution_count": 80,
   "metadata": {},
   "outputs": [
    {
     "data": {
      "text/plain": [
       "<AxesSubplot:title={'center':'Persistence diagram'}, xlabel='Birth', ylabel='Death'>"
      ]
     },
     "execution_count": 80,
     "metadata": {},
     "output_type": "execute_result"
    },
    {
     "data": {
      "image/png": "[encoded data removed]",
      "text/plain": [
       "<Figure size 432x288 with 1 Axes>"
      ]
     },
     "metadata": {
      "needs_background": "light"
     },
     "output_type": "display_data"
    }
   ],
   "source": [
    "# Import the real data graph and build 1-complex\n",
    "\n",
    "path_to_fb_pages_food_csv = '/home/ben/git-source/jupyter-TDA/datasets/fb-pages-food/fb-pages-food.edges'\n",
    "\n",
    "fb_pages_food_st = simplex_graph_from_csv(path_to_fb_pages_food_csv)\n",
    "\n",
    "#for simplex in fb_pages_food_st.get_filtration():\n",
    "#    print(simplex)\n",
    "\n",
    "fb_pages_food_bar = fb_pages_food_st.persistence(min_persistence=0.0, persistence_dim_max=True)\n",
    "#print(fb_pages_food_bar)\n",
    "\n",
    "gudhi.plot_persistence_diagram(fb_pages_food_bar)"
   ]
  },
  {
   "cell_type": "code",
   "execution_count": 81,
   "metadata": {},
   "outputs": [
    {
     "name": "stdout",
     "output_type": "stream",
     "text": [
      "Adding clique  [0, 2, 1]\n",
      "Adding clique  [0, 2, 3]\n"
     ]
    },
    {
     "data": {
      "text/plain": [
       "<AxesSubplot:title={'center':'Persistence diagram'}, xlabel='Birth', ylabel='Death'>"
      ]
     },
     "execution_count": 81,
     "metadata": {},
     "output_type": "execute_result"
    },
    {
     "data": {
      "image/png": "[encoded data removed]",
      "text/plain": [
       "<Figure size 432x288 with 1 Axes>"
      ]
     },
     "metadata": {
      "needs_background": "light"
     },
     "output_type": "display_data"
    }
   ],
   "source": [
    "# Import the real data graph and build 2-complex\n",
    "\n",
    "path_to_fb_pages_food_csv = '/home/ben/git-source/jupyter-TDA/datasets/fb-pages-food/fb-pages-food.edges'\n",
    "\n",
    "fb_pages_food_st = simplex_2_complex_from_csv(path_to_fb_pages_food_csv)\n",
    "\n",
    "#for simplex in fb_pages_food_st.get_filtration():\n",
    "#    print(simplex)\n",
    "\n",
    "fb_pages_food_bar = fb_pages_food_st.persistence(min_persistence=0.0, persistence_dim_max=True)\n",
    "#print(fb_pages_food_bar)\n",
    "\n",
    "gudhi.plot_persistence_diagram(fb_pages_food_bar)"
   ]
  },
  {
   "cell_type": "code",
   "execution_count": null,
   "metadata": {},
   "outputs": [],
   "source": []
  },
  {
   "cell_type": "markdown",
   "metadata": {},
   "source": [
    "## Conclusion"
   ]
  },
  {
   "cell_type": "code",
   "execution_count": 14,
   "metadata": {},
   "outputs": [],
   "source": [
    "# Comparing different persistence diagrams using the bottleneck distance\n",
    "#persistence_interval_dim_1_1 = Rips_simplex_tree_1.persistence_intervals_in_dimension(1)\n",
    "#persistence_interval_dim_1_2 = Rips_simplex_tree_2.persistence_intervals_in_dimension(1)\n",
    "\n",
    "#gudhi.bottleneck_distance(persistence_interval_dim_1_1, persistence_interval_dim_1_2)"
   ]
  },
  {
   "cell_type": "markdown",
   "metadata": {},
   "source": [
    "**TODO**"
   ]
  },
  {
   "cell_type": "markdown",
   "metadata": {},
   "source": [
    "### Properties of the data we could detect with persistent homology\n",
    "\n",
    " * qualitative data about large scale features\n",
    " * Measures both the global and local topology of a dataset\n",
    " * We can use the persistence data as input for further machine learning applications\n",
    " \n",
    " ### Drawbacks of using persistent homology\n",
    " * have to deal with noise in the data and stability\n",
    " * for example, points close to the diagonal in the persistence diagram only appear for a short time: these could come from random fluctuations in the data, but could also represent local properties\n",
    " * It can be challanging to interpret the meaning of the persistent homology groups for the application"
   ]
  },
  {
   "cell_type": "markdown",
   "metadata": {},
   "source": [
    "## References\n",
    "\n",
    " * An introduction to Topological Data Analysis: fundamental and practical aspects for data scientists: https://arxiv.org/abs/1710.04019\n",
    " * Bot Detection on Social Networks Using Persistent Homology: https://www.semanticscholar.org/paper/Bot-Detection-on-Social-Networks-Using-Persistent-Nguyen-Aktas/e3944fac408415965b3d24d52d3ac7b7a0e9aa17\n",
    " * Persistent Homology of Collaboration Networks: https://www.hindawi.com/journals/mpe/2013/815035/\n",
    " \n",
    " \n",
    " \n",
    "### Python libraries used\n",
    "\n",
    "#### TDA tools\n",
    "\n",
    " * [GUDHI Python module](https://gudhi.inria.fr/)\n",
    " * https://github.com/GUDHI/TDA-tutorial\n",
    "\n",
    "#### Graphs\n",
    "\n",
    " * https://networkx.org/\n",
    "\n",
    "\n",
    "\n",
    "### Datasets\n",
    " \n",
    " @inproceedings{nr,\n",
    "      title = {The Network Data Repository with Interactive Graph Analytics and Visualization},\n",
    "      author={Ryan A. Rossi and Nesreen K. Ahmed},\n",
    "      booktitle = {AAAI},\n",
    "      url={https://networkrepository.com},\n",
    "      year={2015}\n",
    " }\n",
    "\n",
    "### Python cheat-sheet\n",
    " * np.random.random(1)[0] for a random number in the interval (0,1)"
   ]
  },
  {
   "cell_type": "markdown",
   "metadata": {},
   "source": [
    "### Appendix: Vietoris-Rips complex from Distance matrix\n",
    "\n",
    "We will consider the following graph with 5 vertices where pairwise distances are encoded in the following matrix:"
   ]
  },
  {
   "cell_type": "code",
   "execution_count": 13,
   "metadata": {},
   "outputs": [],
   "source": [
    "toy_matrix = [[0,1,1,2,inf],\n",
    "              [1,0,2,1,inf],\n",
    "              [1,2,0,1,inf],\n",
    "              [2,1,1,0,inf],\n",
    "              [inf,inf,inf,inf,0]]"
   ]
  },
  {
   "cell_type": "markdown",
   "metadata": {},
   "source": [
    "<img src=\"img/graph_distances.jpg\" width=400 title=\"Graph with unit length edges.\"/>\n",
    "\n",
    "Vietoris-Rips filtration for $r \\in \\mathbb{R}_{\\ge 0}$:\n",
    "Insert a simplex for any finite set of vertices that has diameter at most $r$."
   ]
  },
  {
   "cell_type": "code",
   "execution_count": 4,
   "metadata": {},
   "outputs": [
    {
     "name": "stdout",
     "output_type": "stream",
     "text": [
      "([0], 0.0)\n",
      "([1], 0.0)\n",
      "([2], 0.0)\n",
      "([3], 0.0)\n",
      "([4], 0.0)\n",
      "([0, 1], 1.0)\n",
      "([0, 2], 1.0)\n",
      "([1, 3], 1.0)\n",
      "([2, 3], 1.0)\n",
      "([1, 2], 2.0)\n",
      "([0, 1, 2], 2.0)\n",
      "([0, 3], 2.0)\n",
      "([0, 1, 3], 2.0)\n",
      "([0, 2, 3], 2.0)\n",
      "([1, 2, 3], 2.0)\n",
      "([0, 1, 2, 3], 2.0)\n"
     ]
    }
   ],
   "source": [
    "graph_distance_matrix = toy_matrix\n",
    "\n",
    "# Build Vietoris-Rips complex\n",
    "\n",
    "skeleton = gudhi.RipsComplex(\n",
    "    distance_matrix = graph_distance_matrix,\n",
    "    max_edge_length = 5.0\n",
    ")\n",
    "\n",
    "Rips_simplex_tree = skeleton.create_simplex_tree(max_dimension = 3)\n",
    "\n",
    "for simplex in Rips_simplex_tree.get_filtration():\n",
    "    print(simplex)"
   ]
  },
  {
   "cell_type": "code",
   "execution_count": 20,
   "metadata": {},
   "outputs": [
    {
     "name": "stdout",
     "output_type": "stream",
     "text": [
      "[(1, (1.0, 2.0)), (0, (0.0, inf)), (0, (0.0, inf)), (0, (0.0, 1.0)), (0, (0.0, 1.0)), (0, (0.0, 1.0))]\n"
     ]
    }
   ],
   "source": [
    "# Compute persistence of the simplex tree\n",
    "BarCodes_Rips = Rips_simplex_tree.persistence(min_persistence=0.0, persistence_dim_max=True)\n",
    "\n",
    "print(BarCodes_Rips)"
   ]
  },
  {
   "cell_type": "code",
   "execution_count": 21,
   "metadata": {},
   "outputs": [
    {
     "data": {
      "text/plain": [
       "<AxesSubplot:title={'center':'Persistence diagram'}, xlabel='Birth', ylabel='Death'>"
      ]
     },
     "execution_count": 21,
     "metadata": {},
     "output_type": "execute_result"
    },
    {
     "data": {
      "image/png": "[encoded data removed]",
      "text/plain": [
       "<Figure size 432x288 with 1 Axes>"
      ]
     },
     "metadata": {
      "needs_background": "light"
     },
     "output_type": "display_data"
    }
   ],
   "source": [
    "gudhi.plot_persistence_diagram(persistence=BarCodes_Rips, legend=True)"
   ]
  },
  {
   "cell_type": "code",
   "execution_count": 9,
   "metadata": {},
   "outputs": [
    {
     "data": {
      "text/plain": [
       "<AxesSubplot:title={'center':'Persistence barcode'}>"
      ]
     },
     "execution_count": 9,
     "metadata": {},
     "output_type": "execute_result"
    },
    {
     "data": {
      "image/png": "[encoded data removed]",
      "text/plain": [
       "<Figure size 432x288 with 1 Axes>"
      ]
     },
     "metadata": {
      "needs_background": "light"
     },
     "output_type": "display_data"
    }
   ],
   "source": [
    "gudhi.plot_persistence_barcode(persistence=BarCodes_Rips, legend=True)"
   ]
  }
 ],
 "metadata": {
  "kernelspec": {
   "display_name": "Python 3 (ipykernel)",
   "language": "python",
   "name": "python3"
  },
  "language_info": {
   "codemirror_mode": {
    "name": "ipython",
    "version": 3
   },
   "file_extension": ".py",
   "mimetype": "text/x-python",
   "name": "python",
   "nbconvert_exporter": "python",
   "pygments_lexer": "ipython3",
   "version": "3.9.6"
  }
 },
 "nbformat": 4,
 "nbformat_minor": 4
}
